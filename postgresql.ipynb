{
 "cells": [
  {
   "cell_type": "code",
   "execution_count": 4,
   "metadata": {},
   "outputs": [],
   "source": [
    "import psycopg2\n",
    "\n",
    "conn = psycopg2.connect(\n",
    "    dbname=\"ragdb\",\n",
    "    user=\"postgres\",\n",
    "    password=\"1234\",\n",
    "    host=\"localhost\",\n",
    "    port=\"5432\"\n",
    ")\n",
    "\n",
    "cur = conn.cursor()"
   ]
  },
  {
   "cell_type": "code",
   "execution_count": 5,
   "metadata": {},
   "outputs": [],
   "source": [
    "import pandas as pd\n",
    "\n",
    "df = pd.read_csv(\"/home/ys0660/25-1/Demo/data/details_2025-05-22.csv\")  # 파일 경로에 맞게 수정"
   ]
  },
  {
   "cell_type": "code",
   "execution_count": 6,
   "metadata": {},
   "outputs": [],
   "source": [
    "from datetime import datetime\n",
    "\n",
    "# 날짜 문자열을 datetime 객체로 변환\n",
    "df[\"start_date\"] = df[\"start_date\"].where(df[\"start_date\"].notna(), None)\n",
    "df[\"end_date\"] = df[\"end_date\"].where(df[\"end_date\"].notna(), None)"
   ]
  },
  {
   "cell_type": "code",
   "execution_count": 7,
   "metadata": {},
   "outputs": [],
   "source": [
    "cur.execute(\"\"\"\n",
    "    SELECT column_name\n",
    "    FROM information_schema.columns\n",
    "    WHERE table_name = 'festivals'\n",
    "    ORDER BY ordinal_position;\n",
    "\"\"\")\n",
    "columns = cur.fetchall()\n",
    "for col in columns:\n",
    "    print(col[0])\n"
   ]
  },
  {
   "cell_type": "code",
   "execution_count": 10,
   "metadata": {},
   "outputs": [
    {
     "data": {
      "text/html": [
       "<div>\n",
       "<style scoped>\n",
       "    .dataframe tbody tr th:only-of-type {\n",
       "        vertical-align: middle;\n",
       "    }\n",
       "\n",
       "    .dataframe tbody tr th {\n",
       "        vertical-align: top;\n",
       "    }\n",
       "\n",
       "    .dataframe thead th {\n",
       "        text-align: right;\n",
       "    }\n",
       "</style>\n",
       "<table border=\"1\" class=\"dataframe\">\n",
       "  <thead>\n",
       "    <tr style=\"text-align: right;\">\n",
       "      <th></th>\n",
       "      <th>name</th>\n",
       "      <th>location</th>\n",
       "      <th>start_date</th>\n",
       "      <th>end_date</th>\n",
       "      <th>description</th>\n",
       "      <th>contents</th>\n",
       "      <th>homepage</th>\n",
       "      <th>poster</th>\n",
       "    </tr>\n",
       "  </thead>\n",
       "  <tbody>\n",
       "    <tr>\n",
       "      <th>0</th>\n",
       "      <td>단양 소백산 철쭉제</td>\n",
       "      <td>충청북도 단양군 단양읍 수변로 38</td>\n",
       "      <td>2025.05.22</td>\n",
       "      <td>2025.05.25</td>\n",
       "      <td>단양 소백산철쭉제는 매 년 5월에 개최된다. 5월 소백산 정상에 핀 철쭉을 즐기며 ...</td>\n",
       "      <td>1.공연프로그램: 불꽃을 활용한 레이져쇼,동춘서커스, 개막콘서트(이찬원, 클라씨,왁...</td>\n",
       "      <td>https://korean.visitkorea.or.kr/kfes/detail/fs...</td>\n",
       "      <td>https://kfescdn.visitkorea.or.kr/kfes/upload/c...</td>\n",
       "    </tr>\n",
       "    <tr>\n",
       "      <th>1</th>\n",
       "      <td>밀양아리랑대축제</td>\n",
       "      <td>경상남도 밀양시 삼문동 1-1</td>\n",
       "      <td>2025.05.22</td>\n",
       "      <td>2025.05.25</td>\n",
       "      <td>밀양아리랑대축제는 영남루 대보수사업과 함께 시작된 축제로 현재는 밀양아리랑의 현대적...</td>\n",
       "      <td>1. 대표프로그램- 2025 밀양강오딧세이 : 밀양의 최고 절경인 영남루와 밀양강을...</td>\n",
       "      <td>https://korean.visitkorea.or.kr/kfes/detail/fs...</td>\n",
       "      <td>https://kfescdn.visitkorea.or.kr/kfes/upload/c...</td>\n",
       "    </tr>\n",
       "    <tr>\n",
       "      <th>2</th>\n",
       "      <td>원주용수골꽃양귀비축제</td>\n",
       "      <td>강원특별자치도 원주시 용수골길 311  꽃양귀비축제장</td>\n",
       "      <td>2025.05.22</td>\n",
       "      <td>2025.06.08</td>\n",
       "      <td>자연경관이 뛰어난 마을에 매료되어, 귀농한 주민이 꽃을 너무 좋아해서 2005년 3...</td>\n",
       "      <td>대표프로그램1. 차분한 꽃 관람2. 체험 프로그램 : 꽃양귀비티셔츠 체험, 깡통열차...</td>\n",
       "      <td>https://korean.visitkorea.or.kr/kfes/detail/fs...</td>\n",
       "      <td>https://kfescdn.visitkorea.or.kr/kfes/upload/c...</td>\n",
       "    </tr>\n",
       "    <tr>\n",
       "      <th>3</th>\n",
       "      <td>공공한옥 밤마실</td>\n",
       "      <td>서울특별시 종로구 계동길 37 (계동) 북촌문화센터</td>\n",
       "      <td>2025.05.21</td>\n",
       "      <td>2025.05.31</td>\n",
       "      <td>도심 속 한옥에 드리운 청명한 기운을 느낄 수 있는 초하(初夏)의 계절, 북촌문화센...</td>\n",
       "      <td>1. 전시: 빛 스민 집 展(강현지, 정성아), 밤을 지키는 불빛 展(이승정)2. ...</td>\n",
       "      <td>https://korean.visitkorea.or.kr/kfes/detail/fs...</td>\n",
       "      <td>https://kfescdn.visitkorea.or.kr/kfes/upload/c...</td>\n",
       "    </tr>\n",
       "    <tr>\n",
       "      <th>4</th>\n",
       "      <td>울산대공원 장미축제</td>\n",
       "      <td>울산광역시 남구 남부순환도로 377 (옥동)</td>\n",
       "      <td>2025.05.21</td>\n",
       "      <td>2025.05.25</td>\n",
       "      <td>울산대공원 장미원에서 개최되는 울산대공원 장미축제는 국내 최고의 장미원에서 피어나는...</td>\n",
       "      <td>1. 메인프로그램 : 개막식(퍼레이드, 개막 점등식, 불꽃쇼, 개막공연)2. 공연프...</td>\n",
       "      <td>https://korean.visitkorea.or.kr/kfes/detail/fs...</td>\n",
       "      <td>https://kfescdn.visitkorea.or.kr/kfes/upload/c...</td>\n",
       "    </tr>\n",
       "  </tbody>\n",
       "</table>\n",
       "</div>"
      ],
      "text/plain": [
       "          name                       location  start_date    end_date  \\\n",
       "0   단양 소백산 철쭉제            충청북도 단양군 단양읍 수변로 38  2025.05.22  2025.05.25   \n",
       "1     밀양아리랑대축제               경상남도 밀양시 삼문동 1-1  2025.05.22  2025.05.25   \n",
       "2  원주용수골꽃양귀비축제  강원특별자치도 원주시 용수골길 311  꽃양귀비축제장  2025.05.22  2025.06.08   \n",
       "3     공공한옥 밤마실   서울특별시 종로구 계동길 37 (계동) 북촌문화센터  2025.05.21  2025.05.31   \n",
       "4   울산대공원 장미축제       울산광역시 남구 남부순환도로 377 (옥동)  2025.05.21  2025.05.25   \n",
       "\n",
       "                                         description  \\\n",
       "0  단양 소백산철쭉제는 매 년 5월에 개최된다. 5월 소백산 정상에 핀 철쭉을 즐기며 ...   \n",
       "1  밀양아리랑대축제는 영남루 대보수사업과 함께 시작된 축제로 현재는 밀양아리랑의 현대적...   \n",
       "2  자연경관이 뛰어난 마을에 매료되어, 귀농한 주민이 꽃을 너무 좋아해서 2005년 3...   \n",
       "3  도심 속 한옥에 드리운 청명한 기운을 느낄 수 있는 초하(初夏)의 계절, 북촌문화센...   \n",
       "4  울산대공원 장미원에서 개최되는 울산대공원 장미축제는 국내 최고의 장미원에서 피어나는...   \n",
       "\n",
       "                                            contents  \\\n",
       "0  1.공연프로그램: 불꽃을 활용한 레이져쇼,동춘서커스, 개막콘서트(이찬원, 클라씨,왁...   \n",
       "1  1. 대표프로그램- 2025 밀양강오딧세이 : 밀양의 최고 절경인 영남루와 밀양강을...   \n",
       "2  대표프로그램1. 차분한 꽃 관람2. 체험 프로그램 : 꽃양귀비티셔츠 체험, 깡통열차...   \n",
       "3  1. 전시: 빛 스민 집 展(강현지, 정성아), 밤을 지키는 불빛 展(이승정)2. ...   \n",
       "4  1. 메인프로그램 : 개막식(퍼레이드, 개막 점등식, 불꽃쇼, 개막공연)2. 공연프...   \n",
       "\n",
       "                                            homepage  \\\n",
       "0  https://korean.visitkorea.or.kr/kfes/detail/fs...   \n",
       "1  https://korean.visitkorea.or.kr/kfes/detail/fs...   \n",
       "2  https://korean.visitkorea.or.kr/kfes/detail/fs...   \n",
       "3  https://korean.visitkorea.or.kr/kfes/detail/fs...   \n",
       "4  https://korean.visitkorea.or.kr/kfes/detail/fs...   \n",
       "\n",
       "                                              poster  \n",
       "0  https://kfescdn.visitkorea.or.kr/kfes/upload/c...  \n",
       "1  https://kfescdn.visitkorea.or.kr/kfes/upload/c...  \n",
       "2  https://kfescdn.visitkorea.or.kr/kfes/upload/c...  \n",
       "3  https://kfescdn.visitkorea.or.kr/kfes/upload/c...  \n",
       "4  https://kfescdn.visitkorea.or.kr/kfes/upload/c...  "
      ]
     },
     "execution_count": 10,
     "metadata": {},
     "output_type": "execute_result"
    }
   ],
   "source": [
    "df.head()"
   ]
  },
  {
   "cell_type": "code",
   "execution_count": 46,
   "metadata": {},
   "outputs": [
    {
     "name": "stdout",
     "output_type": "stream",
     "text": [
      "Dropped column: host\n",
      "Dropped column: organizer\n",
      "Dropped column: address_road\n",
      "Dropped column: address_lot\n",
      "Dropped column: latitude\n",
      "Dropped column: longitude\n",
      "Dropped column: created_at\n",
      "Dropped column: region\n"
     ]
    }
   ],
   "source": [
    "columns_to_drop = [\n",
    "    \"host\", \"organizer\", \"address_road\", \"address_lot\",\n",
    "    \"latitude\", \"longitude\", \"created_at\", \"region\"\n",
    "]\n",
    "\n",
    "# 각 컬럼에 대해 DROP COLUMN 실행\n",
    "for col in columns_to_drop:\n",
    "    try:\n",
    "        cur.execute(f\"ALTER TABLE festivals DROP COLUMN IF EXISTS {col};\")\n",
    "        print(f\"Dropped column: {col}\")\n",
    "    except Exception as e:\n",
    "        print(f\"Error dropping column {col}: {e}\")\n",
    "        conn.rollback()\n",
    "    else:\n",
    "        conn.commit()"
   ]
  },
  {
   "cell_type": "code",
   "execution_count": 12,
   "metadata": {},
   "outputs": [],
   "source": [
    "cur.execute(\"\"\"\n",
    "    CREATE TABLE IF NOT EXISTS festivals (\n",
    "        id SERIAL PRIMARY KEY,\n",
    "        name TEXT,\n",
    "        location TEXT,\n",
    "        start_date DATE,\n",
    "        end_date DATE,\n",
    "        description TEXT,\n",
    "        contents TEXT,\n",
    "        homepage TEXT,\n",
    "        poster TEXT\n",
    "    )\n",
    "\"\"\")\n",
    "conn.commit()"
   ]
  },
  {
   "cell_type": "code",
   "execution_count": 14,
   "metadata": {},
   "outputs": [
    {
     "name": "stdout",
     "output_type": "stream",
     "text": [
      "Error inserting row: 마토예술제, error: invalid input syntax for type date: \"~\"\n",
      "LINE 5: ... 평택시 팽성읍 안정쇼핑로 11 안정리 예술인광장', '~', '~', ...\n",
      "                                                            ^\n",
      "\n",
      "Error inserting row: 마한역사문화제, error: invalid input syntax for type date: \"~\"\n",
      "LINE 5: ...'전라남도 영암군 시종면 옥야리 526 마한문화공원', '~', '~', ...\n",
      "                                                             ^\n",
      "\n",
      "Error inserting row: 물금벚꽃축제, error: invalid input syntax for type date: \"~\"\n",
      "LINE 5: ...경상남도 양산시 물금읍 황산공원1길 275 황산공원', '~', '~', ...\n",
      "                                                             ^\n",
      "\n",
      "Error inserting row: 비슬산 참꽃문화제, error: invalid input syntax for type date: \"~\"\n",
      "LINE 5: ...군 유가읍 일연선사길 10 비슬산유스호스텔 주차장', '~', '~', ...\n",
      "                                                             ^\n",
      "\n",
      "Error inserting row: 안동벚꽃축제, error: invalid input syntax for type date: \"~\"\n",
      "LINE 5: ...꽃축제', '경상북도 안동시 축제장길 200 (운흥동)', '~', '~', ...\n",
      "                                                             ^\n",
      "\n",
      "Error inserting row: 영암왕인문화축제, error: invalid input syntax for type date: \"~\"\n",
      "LINE 5: ...인문화축제', '전라남도 영암군 군서면 왕인로 440', '~', '~', ...\n",
      "                                                             ^\n",
      "\n",
      "Error inserting row: 완주 모악산 웰니스 축제, error: invalid input syntax for type date: \"~\"\n",
      "LINE 5: ...', '전북특별자치도 완주군 구이면 모악산길 111-6', '~', '~', ...\n",
      "                                                             ^\n",
      "\n",
      "Error inserting row: 의성 산수유마을 꽃맞이행사, error: invalid input syntax for type date: \"~\"\n",
      "LINE 5: ...맞이행사', '경상북도 의성군 사곡면 산수유2길 2', '~', '~', ...\n",
      "                                                            ^\n",
      "\n",
      "Error inserting row: 인천대공원 벚꽃축제, error: invalid input syntax for type date: \"~\"\n",
      "LINE 5: ...공원 벚꽃축제', '인천광역시 남동구 장수동 산79', '~', '~', ...\n",
      "                                                            ^\n",
      "\n",
      "Error inserting row: 화개장터 벚꽃축제, error: invalid input syntax for type date: \"~\"\n",
      "LINE 5: ...남도 하동군 화개면 탑리 576 화개면 그린나래광장', '~', '~', ...\n",
      "                                                             ^\n",
      "\n"
     ]
    }
   ],
   "source": [
    "for _, row in df.iterrows():\n",
    "    try:\n",
    "        cur.execute(\"\"\"\n",
    "            INSERT INTO festivals (\n",
    "                name, location, start_date, end_date,\n",
    "                description, contents, homepage, poster\n",
    "            ) VALUES (%s, %s, %s, %s, %s, %s, %s, %s)\n",
    "        \"\"\", (\n",
    "            row[\"name\"],\n",
    "            row[\"location\"],\n",
    "            row[\"start_date\"],\n",
    "            row[\"end_date\"],\n",
    "            row[\"description\"],\n",
    "            row[\"contents\"],\n",
    "            row[\"homepage\"],\n",
    "            row[\"poster\"]\n",
    "        ))\n",
    "    except Exception as e:\n",
    "        print(f\"Error inserting row: {row['name']}, error: {e}\")\n",
    "        conn.rollback()  # 이 행의 실패로 인한 트랜잭션 초기화"
   ]
  },
  {
   "cell_type": "code",
   "execution_count": 15,
   "metadata": {},
   "outputs": [
    {
     "name": "stdout",
     "output_type": "stream",
     "text": [
      "(1955, '포천시 청년축제', '경기도 포천시 호국로 1518', datetime.date(2024, 10, 12), datetime.date(2024, 10, 13), '2024년 제5회 포천시 청년축제는 \"청년, 그리고 울림\" 이라는 슬로건으로 청년들이 직접 기획하고 준비한 축제이다. 청년들이 즐길수 있는 다양한 체험부스와 청년예술인 공연, 연예인축하공연, 청년대상 시상등 볼거리, 즐길거리등이 준비되어 있다.', '1. 메인프로그램 : 청년동아리 공연, 기념식, 연예인축하공연2. 부대프로그램 : 체험부스, 판매부스3. 소비자 참여 프로그램 : 청년노래방 \"일단불러\"4. 기타 내용 : 포토존 운영', 'https://korean.visitkorea.or.kr/kfes/detail/fstvlDetail.do?fstvlCntntsId=22b7e854-7ed2-41c6-819f-6a340e4249aa&cntntsNm=%ED%8F%AC%EC%B2%9C%EC%8B%9C%EC%B2%AD%EB%85%84%EC%B6%95%EC%A0%9C', 'https://kfescdn.visitkorea.or.kr/kfes/upload/contents/db/22b7e854-7ed2-41c6-819f-6a340e4249aa_3.jpg')\n",
      "(2020, '청라 와인 페스티벌', '인천광역시 서구 청라대로 88 (청라동)', datetime.date(2024, 10, 5), datetime.date(2024, 10, 6), '2024 청라 와인 페스티벌은 10월 5일 토요일부터 10월 6일 일요일까지 청라호수공원 플라워아일랜드에서 진행된다. 이번 축제는 남미의 분위기를 느낄 수 있는 문화예술 공연 및 프로그램으로 구성된다. 축제 1일 차에는 지역예술가의 음악과 남미 공연을 진행하며, 축제 2일 차에는 뮤지컬 배우 카이, 가수 효린, 하현상, VOS 공연 및 레이저쇼도 진행된다. 양일간 나이 제한 없이 전 연령 참여가 가능한 체험프로그램도 운영된다.', '1. 메인프로그램1) 공연프로그램 (2024. 10. 05. (토) / 청라호수공원 플라워뮤직아일랜드 야외음악당)(1) 프리(PRE)스테이지- 일시 : 2024. 10. 05. (토) 15:30 ~ 16:30- 내용 : 지역예술가 및 남미음악의 연주를 즐길 수 있는 무대로 외국인과 지역 주민들의 화합 장 마련- 출연팀 : 셀위펑크(지역예술가), 가우사이(남미음악 공연팀), 이그탱고(탱고 공연팀)(2) 식전공연 (퍼레이드)- 일시 : 2024. 10. 05. (토) 17:30 ~ 18:00- 내용 : 흥겨운 남미음악과 퍼레이드 공연을 통해 무대로 관람객 시선 유도- 출연팀 : 지그재그(3) 메인 스테이지 (개막공연 : 탱고공연 등 남미음악)- 일시 : 2024. 10. 05. (토) 18:30 ~ 20:00- 내용 : 남미를 대표하는 장르인 강렬한 탱고연주 등 남미 특유의 선율과 춤을 통한 정열있고 특색잇는 공연- 출연팀 : 카스타냐 탱고(탱고 공연), 뚜두뱅(반도네온 연주 등의 공연), 스윙키즈댄스(남미 댄스)2) 공연프로그램 (2024. 10. 06. (일) / 청라호수공원 플라워뮤직아일랜드 야외음악당)(1) 남미로 떠나는 와인 여행 <와인 강연회_정승연 강사>- 일시 : 2024. 10. 06. (일) 14:00 ~ 15:00- 내용 : 남미 주요 와인 산지인 칠레, 아르헨티나의 문화와 와인 소개(2) 시민참여형 라디오쇼 <보이는 와인 라디오_박경태 진행자>- 일시 : 2024. 10. 06. (일) 15:00 ~ 16:00- 내용 : 시민들이 와인에 얽힌 사연을 현장에서 문자로 신청하면 진행자가 사연을 읽어주는 라디오쇼 형식의 프로그램으로 총 2개의 코너로 진행하는 시민 참여 프로그램 (참여경품 기프티콘 이벤트)(3) 메인 스테이지 (폐막 공연 : 크로스오버 및 대중음악)- 일시 : 2024. 10. 06. (일) 17:30 ~ 19:00- 내용 : 외국인 및 지역주민이 함께 즐길 수 있는 크로스오버 장르 및 대중음악 콘서트- 출연팀 : 카이(뮤지컬), 하현상, VOS, 효린(4) 폐막 이벤트 (레이저쇼)- 일시 : 2024. 10. 06. (일) 19:00 ~ 19:10- 내용 : 친환경 축제를 지향하는 폐막이벤트 진행2. 부대프로그램1) 와인존 : 와인 시음 및 판매 부스 운영- 스페셜 부스 : 2024년 테마인 남미 와인 구성- 일반 부스 : 다양한 국가의 글로벌 와인으로 구성하여 운영- 해피아워 : 와인 할인 판매 (시간 변동 가능)- 이벤트 : 와인 공병 제출 시 무료시음 1회권 지급*공병 이벤트 무료시음 : 공병 제출 후 성인인증 완료된 성인에 한하여 일 500잔 선착순 제공 (1인당 1회 참여 가능)2) 푸드존 : 와인과 함께 즐기는 푸드 판매- 지역경제 활성화를 위해 인천 관내 푸드트럭 업체 10대 운영- 메뉴 : 닭꼬치, 새우구이, 소고기 불초밥, 논알콜 칵테일, 오꼬노미야끼, 커피, 츄러스, 야끼소바, 고구마 닭강정, 타코야끼- 테마 지역 푸드트럭 1대 : 나쵸와 타코- 친환경 축제의 지향을 위해 인천 서구청 연계 다회용기 사용 예정- 푸드존 앞 파라솔 의자 설치 운영 예정3) 체험존 : 와인과 테마를 주제로 하는 체험 프로그램 운영- 남녀노소 누구나 참여하기 쉬운 체험 프로그램 운영- 나만의 와인 칵테일 만들기, 실크스크린 와인 칠링백 만들기, 남미 스타일 페이스 페인팅, 코르크 토퍼 만들기, 와인변 조명 만들기- 다수의 참여와 효율적인 운영을 위해 시간대별 신청 및 수량 조율 (1일 운영 수량 : 프로그램별 200개 내외 / 효율적 운영을 위해 4타임 (50개씩)으로 진행)4) 힐링존 : 행사장 내 관객 휴게공간 조성- 빈백 설치 등 행사장 내 관람객 편의를 위한 휴게공간 조성5) 이벤트존 : 행사장 내 이벤트 운영- 특별한 순간을 기록할 수 있는 와인네컷 (인생네컷)_청라 와인페스티벌 키디자인으로 인화지 준비 예정- 무료시음의 기회를 얻을 수 있는 와인퐁 게임 운영- 행사장 곳곳에 감성 포토존을 위한 조형물 설치 예정', 'https://korean.visitkorea.or.kr/kfes/detail/fstvlDetail.do?fstvlCntntsId=988698ae-0180-42d0-a98d-f6e4bd136f0e&cntntsNm=%EC%B2%AD%EB%9D%BC%EC%99%80%EC%9D%B8%ED%8E%98%EC%8A%A4%ED%8B%B0%EB%B2%8C', 'https://kfescdn.visitkorea.or.kr/kfes/upload/contents/db/988698ae-0180-42d0-a98d-f6e4bd136f0e_3.png')\n",
      "(2053, '칠곡낙동강평화축제', '경상북도 칠곡군 석적읍 중지리 552 칠곡보생태공원 및 왜관시가지일원', datetime.date(2024, 10, 4), datetime.date(2024, 10, 6), '한국 전쟁 최후의 보루였던 낙동강 전투 지역, 칠곡에서 1950년 평범했던 사람들이 지켜낸 대한민국, 그 당시의 아픔을 다시 한번 기억하고 나라를 지켜낸 이들에게 감사를 전하는 축제가 성대하게 개최된다.', '1. 메인프로그램 : 개막행사, 군문화공연, 개막 축하공연 등2. 부대 프로그램 : 체험, 전시, 공연 등', 'https://korean.visitkorea.or.kr/kfes/detail/fstvlDetail.do?fstvlCntntsId=a6417376-6bef-489e-94f1-cae522aea9e1&cntntsNm=%EC%B9%A0%EA%B3%A1%EB%82%99%EB%8F%99%EA%B0%95%ED%8F%89%ED%99%94%EC%B6%95%EC%A0%9C', 'https://kfescdn.visitkorea.or.kr/kfes/upload/contents/db/a6417376-6bef-489e-94f1-cae522aea9e1_3.jpg')\n",
      "(1443, '성북세계음식축제 누리마실', '서울특별시 성북구 성북로 37 (성북동1가)', datetime.date(2025, 5, 18), datetime.date(2025, 5, 18), \"<성북세계음식축제 누리마실>은 세계음식을 통해 각국 문화를 경험하며 서로에 대한 인정과 이해를 바탕으로 공존과 상생을 이야기하는 축제이다. 세계 각국을 대표하는 음식들과 그 나라만의 문화가 녹아있는 전통 음식들을 맛볼 수 있으며, 이국적인 문화체험과 서로를 이해하고 어울릴 수 있는 퍼레이드와 모두가 함께 즐기는 다양한 공연도 준비되어있다. 문화체육관광부 '로컬100'에 선정된 성북구 대표축제 누리마실에서는 음식, 마켓, 체험, 공연 등 다양한 컨텐츠를 만나볼 수 있다.\", '1. 별의별쇼 - 퍼레이드 및 개막식 / 지역예술단체들이 선보이는 거리공연 및 퍼포먼스 진행2. 세계음식요리사 - 대사관 요리사들이 소개하는 세계음식과 문화 부스 운영3. 성북으뜸요리사 - 성북구 지역가게 및 공동체의 다양한 먹거리 판매 부스 운영4. 우리상생요리사 - 기후미식, 친환경 캠페인 및 관련 K-푸드 소개 특별존 운영5. 별별모험 - 다양한 나라의 문화를 볼 수 있는 세계전통놀이 및 문화체험 부스6. 별별마켓 - 각 나라의 수공예 물품을 판매하는 마켓 부스 운영', 'https://korean.visitkorea.or.kr/kfes/detail/fstvlDetail.do?fstvlCntntsId=69fdf229-973c-4e61-a5e8-3f461651e80b&cntntsNm=%EC%84%B1%EB%B6%81%EC%84%B8%EA%B3%84%EC%9D%8C%EC%8B%9D%EC%B6%95%EC%A0%9C%EB%88%84%EB%A6%AC%EB%A7%88%EC%8B%A4', 'https://kfescdn.visitkorea.or.kr/kfes/upload/contents/db/69fdf229-973c-4e61-a5e8-3f461651e80b_3.png')\n",
      "(1444, '대구앞산축제', '대구광역시 남구 고산4길 71 (봉덕동)', datetime.date(2025, 5, 17), datetime.date(2025, 5, 18), '한국관광 100선에 선정된 도심 속 힐링 공간인 ‘앞산’에서 펼쳐지는 대구 남구 대표축제이다. 더욱 화려해진 무대와 다양한 프로그램으로 앞산의 진정한 매력을 알린다.', '1. 메인프로그램 : 개막식, 축하공연, 앞산커피축제, 앞산 피트니스(요가인더오징어게임, 클라이밍체험), 앞산 뷰티체험(메이크업 스타일링,두피관리체험,바른자세교정소,천연화장품 만들기 등)2. 부대프로그램 : 앞산ESG생태체험 놀이터(앞산 나무놀이터, 꿀벌생태체험), 남구 소상공인 플리마켓, 앞산 낭만포차(새바자 3000원식당, 맥주팝업, 푸드트럭) 등', 'https://korean.visitkorea.or.kr/kfes/detail/fstvlDetail.do?fstvlCntntsId=53b9497a-02cf-48ed-9d46-ee58efc16545&cntntsNm=%EB%8C%80%EA%B5%AC%EC%95%9E%EC%82%B0%EC%B6%95%EC%A0%9C', 'https://kfescdn.visitkorea.or.kr/kfes/upload/contents/db/53b9497a-02cf-48ed-9d46-ee58efc16545_3.jpg')\n"
     ]
    }
   ],
   "source": [
    "cur.execute(\"SELECT * FROM festivals LIMIT 5;\")\n",
    "rows = cur.fetchall()\n",
    "for row in rows:\n",
    "    print(row)"
   ]
  },
  {
   "cell_type": "code",
   "execution_count": 16,
   "metadata": {},
   "outputs": [
    {
     "name": "stdout",
     "output_type": "stream",
     "text": [
      "총 데이터 수: 1016행\n"
     ]
    }
   ],
   "source": [
    "cur.execute(\"SELECT COUNT(*) FROM festivals;\")\n",
    "count = cur.fetchone()[0]\n",
    "print(f\"총 데이터 수: {count}행\")"
   ]
  },
  {
   "cell_type": "code",
   "execution_count": 4,
   "metadata": {},
   "outputs": [],
   "source": [
    "# 직접 하나만 넣고 싶을 때\n",
    "single_data = {\n",
    "    \"name\": \"부산국제록페스티벌\",\n",
    "    \"location\": \"부산광역시 사상구 삼락동 29-50\",\n",
    "    \"start_date\": \"2025-09-26\",\n",
    "    \"end_date\": \"2025-09-28\",\n",
    "    \"description\": \"\"\"*하기 축제 먹거리 정보는 전년도(2024년) 정보로, 2025년도 축제 먹거리 정보는 업데이트 중에 있습니다.*\n",
    "\n",
    "    부산국제록페스티벌은 2000년 첫 개최 이래, 26년 동안 명맥을 꾸준히 지켜온 국내 최초·최장수 국제록페스티벌이다. 2025년에는 9월 26일(금)부터 9월 28일(일)까지 3일간, 삼락생태공원에서 개최되며, 다양한 국내외 아티스트가 참여할 예정이다.공원 곳곳에 조성된 무대에서 신진 아티스트부터 글로벌 최정상급 헤드라이너까지 취향에 따라 다양한 공연을 관람할 수 있으며,관람객 참여형 게임 이벤트, 푸드코트 라운지, 캠핑존 등 다양한 부대 이벤트도 즐길 수 있다.\"\"\",\n",
    "    \"contents\": \"1. 메인프로그램 : 부산국제록페스티벌\\n2. 부대프로그램 : Rookies on the BU-ROCK, Road to BU-ROCK 등\\n3. 기타 : MD부스, 푸드코트 라운지, 캠핑존 등\",\n",
    "    \"homepage\": \"https://korean.visitkorea.or.kr/kfes/detail/fstvlDetail.do?fstvlCntntsId=8146cbf1-2012-4178-aa12-06ddfb702361&cntntsNm=%EB%B6%80%EC%82%B0%EA%B5%AD%EC%A0%9C%EB%A1%9D%ED%8E%98%EC%8A%A4%ED%8B%B0%EB%B2%8C\",\n",
    "    \"poster\": \"https://kfescdn.visitkorea.or.kr/kfes/upload/contents/db/8146cbf1-2012-4178-aa12-06ddfb702361_3.png\"\n",
    "}\n",
    "\n",
    "\n",
    "try:\n",
    "    cur.execute(\"\"\"\n",
    "        INSERT INTO festivals (\n",
    "            name, location, start_date, end_date,\n",
    "            description, contents, homepage, poster\n",
    "        ) VALUES (%s, %s, %s, %s, %s, %s, %s, %s)\n",
    "    \"\"\", (\n",
    "        single_data[\"name\"],\n",
    "        single_data[\"location\"],\n",
    "        single_data[\"start_date\"],\n",
    "        single_data[\"end_date\"],\n",
    "        single_data[\"description\"],\n",
    "        single_data[\"contents\"],\n",
    "        single_data[\"homepage\"],\n",
    "        single_data[\"poster\"]\n",
    "    ))\n",
    "    conn.commit()  # 성공하면 커밋\n",
    "except Exception as e:\n",
    "    print(f\"Error inserting data: {single_data['name']}, error: {e}\")\n",
    "    conn.rollback()  # 실패 시 롤백\n",
    "\n",
    "cur.execute(\"UPDATE festivals SET updated_at = NOW();\")"
   ]
  },
  {
   "cell_type": "code",
   "execution_count": 17,
   "metadata": {},
   "outputs": [],
   "source": [
    "conn.commit()\n",
    "cur.close()\n",
    "conn.close()"
   ]
  }
 ],
 "metadata": {
  "kernelspec": {
   "display_name": "ys0660",
   "language": "python",
   "name": "python3"
  },
  "language_info": {
   "codemirror_mode": {
    "name": "ipython",
    "version": 3
   },
   "file_extension": ".py",
   "mimetype": "text/x-python",
   "name": "python",
   "nbconvert_exporter": "python",
   "pygments_lexer": "ipython3",
   "version": "3.10.16"
  }
 },
 "nbformat": 4,
 "nbformat_minor": 2
}

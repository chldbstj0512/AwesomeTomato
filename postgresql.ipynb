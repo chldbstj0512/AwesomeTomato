{
 "cells": [
  {
   "cell_type": "code",
   "execution_count": 2,
   "metadata": {},
   "outputs": [],
   "source": [
    "import psycopg2\n",
    "\n",
    "conn = psycopg2.connect(\n",
    "    dbname=\"ragdb\",\n",
    "    user=\"postgres\",\n",
    "    password=\"1234\",\n",
    "    host=\"localhost\",\n",
    "    port=\"5432\"\n",
    ")\n",
    "\n",
    "cur = conn.cursor()"
   ]
  },
  {
   "cell_type": "code",
   "execution_count": 31,
   "metadata": {},
   "outputs": [],
   "source": [
    "import pandas as pd\n",
    "\n",
    "df = pd.read_csv(\"/home/ys0660/25-1/Demo/data/details_2025-05-22.csv\")  # 파일 경로에 맞게 수정"
   ]
  },
  {
   "cell_type": "code",
   "execution_count": 40,
   "metadata": {},
   "outputs": [],
   "source": [
    "from datetime import datetime\n",
    "\n",
    "# 날짜 문자열을 datetime 객체로 변환\n",
    "df[\"start_date\"] = df[\"start_date\"].where(df[\"start_date\"].notna(), None)\n",
    "df[\"end_date\"] = df[\"end_date\"].where(df[\"end_date\"].notna(), None)"
   ]
  },
  {
   "cell_type": "code",
   "execution_count": 53,
   "metadata": {},
   "outputs": [
    {
     "name": "stdout",
     "output_type": "stream",
     "text": [
      "id\n",
      "name\n",
      "location\n",
      "start_date\n",
      "end_date\n",
      "description\n",
      "homepage\n",
      "contents\n",
      "poster\n",
      "updated_at\n"
     ]
    }
   ],
   "source": [
    "cur.execute(\"\"\"\n",
    "    SELECT column_name\n",
    "    FROM information_schema.columns\n",
    "    WHERE table_name = 'festivals'\n",
    "    ORDER BY ordinal_position;\n",
    "\"\"\")\n",
    "columns = cur.fetchall()\n",
    "for col in columns:\n",
    "    print(col[0])\n"
   ]
  },
  {
   "cell_type": "code",
   "execution_count": 46,
   "metadata": {},
   "outputs": [
    {
     "name": "stdout",
     "output_type": "stream",
     "text": [
      "Dropped column: host\n",
      "Dropped column: organizer\n",
      "Dropped column: address_road\n",
      "Dropped column: address_lot\n",
      "Dropped column: latitude\n",
      "Dropped column: longitude\n",
      "Dropped column: created_at\n",
      "Dropped column: region\n"
     ]
    }
   ],
   "source": [
    "columns_to_drop = [\n",
    "    \"host\", \"organizer\", \"address_road\", \"address_lot\",\n",
    "    \"latitude\", \"longitude\", \"created_at\", \"region\"\n",
    "]\n",
    "\n",
    "# 각 컬럼에 대해 DROP COLUMN 실행\n",
    "for col in columns_to_drop:\n",
    "    try:\n",
    "        cur.execute(f\"ALTER TABLE festivals DROP COLUMN IF EXISTS {col};\")\n",
    "        print(f\"Dropped column: {col}\")\n",
    "    except Exception as e:\n",
    "        print(f\"Error dropping column {col}: {e}\")\n",
    "        conn.rollback()\n",
    "    else:\n",
    "        conn.commit()"
   ]
  },
  {
   "cell_type": "code",
   "execution_count": 43,
   "metadata": {},
   "outputs": [],
   "source": [
    "for _, row in df.iterrows():\n",
    "    try:\n",
    "        cur.execute(\"\"\"\n",
    "            INSERT INTO festivals (\n",
    "                name, location, start_date, end_date,\n",
    "                description, contents, homepage, poster\n",
    "            ) VALUES (%s, %s, %s, %s, %s, %s, %s, %s)\n",
    "        \"\"\", (\n",
    "            row[\"name\"],\n",
    "            row[\"location\"],\n",
    "            row[\"start_date\"],\n",
    "            row[\"end_date\"],\n",
    "            row[\"description\"],\n",
    "            row[\"contents\"],\n",
    "            row[\"homepage\"],\n",
    "            row[\"poster\"]\n",
    "        ))\n",
    "    except Exception as e:\n",
    "        print(f\"Error inserting row: {row['name']}, error: {e}\")\n",
    "        conn.rollback()  # 이 행의 실패로 인한 트랜잭션 초기화"
   ]
  },
  {
   "cell_type": "code",
   "execution_count": 55,
   "metadata": {},
   "outputs": [
    {
     "name": "stdout",
     "output_type": "stream",
     "text": [
      "(3230, '단양 소백산 철쭉제', '충청북도 단양군 단양읍 수변로 38', datetime.date(2025, 5, 22), datetime.date(2025, 5, 25), '단양 소백산철쭉제는 매 년 5월에 개최된다. 5월 소백산 정상에 핀 철쭉을 즐기며 산행을 체험하고 단양강을 따라 펼쳐지는 수변특설무대를 배경으로 소백산 산신제, 실버가요제, 개막축하공연, 레이져 쇼, EDM공연, 서커스공연을 즐길 수 있으며 상상의거리 일대에선 철쭉과 관련된 체험행사와 버스킹공연 등이 펼쳐진다. 풍물시장과 지역에서 유명한 먹거리들을 한 자리에서 만끽 할 수 있는 즐거운 축제다.', 'https://korean.visitkorea.or.kr/kfes/detail/fstvlDetail.do?fstvlCntntsId=0adb8f34-4b47-4eee-99f6-f64dc6717c68&cntntsNm=%EB%8B%A8%EC%96%91%EC%86%8C%EB%B0%B1%EC%82%B0%EC%B2%A0%EC%AD%89%EC%A0%9C', '1.공연프로그램: 불꽃을 활용한 레이져쇼,동춘서커스, 개막콘서트(이찬원, 클라씨,왁스,김지훈), 철쭉하모니 콘서트(송가인, 복지은,판타지보이스, 해바라기), 제8회 실버가요제2. 부대프로그램 : 퇴계이황 추념 서예대회, 소백산 산신제,모터서프 축하공연,단양사투리 경연대회, 철쭉야생화 테마관, 버스킹공연 등3. 소비자 참여 프로그램 : 철쭉을 활용한 체험부스, 재미철철 감성쭉쭉 먹거리 체험(전통주,이색먹거리)4. 기타 내용 : 철쭉포토죤에서 인생 샷 만나기, 단양10경 플리마켓, 단양빵지순례(단양에서 유명한 빵집이 마련한 철쭉빵) 거리에서 펼쳐지는 재미철철 감성쭉쭉(뮤지컬, 마임, 마당극 공연), 풍물시장 등', 'https://kfescdn.visitkorea.or.kr/kfes/upload/contents/db/0adb8f34-4b47-4eee-99f6-f64dc6717c68_3.jpg', datetime.datetime(2025, 5, 22, 15, 23, 0, 840483))\n",
      "(3231, '밀양아리랑대축제', '경상남도 밀양시 삼문동 1-1', datetime.date(2025, 5, 22), datetime.date(2025, 5, 25), '밀양아리랑대축제는 영남루 대보수사업과 함께 시작된 축제로 현재는 밀양아리랑의 현대적 가치를 발굴하는 것을 목표 하고 있다. 밀양아리랑 특화 콘텐츠를 개발을 통해 아리랑주제관, 밀양강오딧세이, 밀양의 이야기와 놀이를 접목시킨 다양한 프로그램, 청소년 자체기획 프로그램, 어르신 콘텐츠 등 38종의 프로그램을 진행할 예정이다. 또한 밀양아리랑대축제는 매년 밀양시 인구의 7%(7,600여명)가량 참여하고 있는 대한민국의 대표 시민참여 및 주도형 축제이다.', 'https://korean.visitkorea.or.kr/kfes/detail/fstvlDetail.do?fstvlCntntsId=23b8642c-8c00-4278-a76b-2f7bd579c97a&cntntsNm=%EB%B0%80%EC%96%91%EC%95%84%EB%A6%AC%EB%9E%91%EB%8C%80%EC%B6%95%EC%A0%9C', '1. 대표프로그램- 2025 밀양강오딧세이 : 밀양의 최고 절경인 영남루와 밀양강을 배경으로 펼쳐지는 실경멀티미디어 공연- 아리랑주제관 : 아리랑 및 대축제의 역사와 전세계에 퍼져있는 밀양아리랑 소개하는 전시체험 공간2. 주제형 프로그램- Sunshine 밀양 : 밀양 예술인 중심의 공연 프로그램- 아리랑의 선율, 트리오 : 대한민국 아리랑 진흥을 위한 3대 지자체(밀양, 정선, 진도) 협력 공연- 청소년아라리오축제 : 밀양의 청소년들이 직접 만드는 축제 속의 축제- 아리랑 미로 : 미로 속에서 배우는 밀양아리랑과 밀양의 관광, 역사- 아리랑 원더랜드 : 밀양의 무형유산과 오감체험 등 전 연령층 체험 콘텐츠- 밀양아리랑창작경연대회 : 현대적인 시선에서 재창조되어 밀양아리랑의 발전방향을 제시하는 경연대회- 밀양아리랑경창대회 : 밀양아리랑 경창자 및 이수자를 발굴하는 경창경연대회- 밀양아리랑 Origin : 대축제의 시작을 알리는 불씨 점화 및 공식 행사- 역사맞이 거리퍼레이드 : 축제 3대 인물과 밀양의 전 읍면동 시민들이 참여하는 거리퍼레이드3. 지역 문화관광자원 연계 프로그램- 밀양밀양 그라운드: 관내 업체 팝업스토어, 다양한 놀이 공간 등 밀양을 이해하는 새로운 체험 및 놀이 공간- 무형유산 공연 : 유형, 무형 유산 초청 공연- 농악단 공개발표회 : 풍요와 번영을 기원하는 우리지역 전통 농악단 공연- 아리랑 스토리 투어 : 이야기꾼과 함께 체험하며 밀양 이야기를 배우는 투어 프로그램4. 부대 프로그램- 老NO!(노노) 행복루 : 노년층들만의 체험 및 교류 프로그램- 수상체험존 : 밀양강 수상체험 프로그램5. 밀양문화제(동시행사)- 전국학생미술실기대회 / 전국한글백일장 / 전국밀양아리랑연극제 / 전국학생음악경연대회 / 전국휘호대회 / 전국한시백일장 / 전국연날리기대회[이용요금]- 아리랑 미로 : 2,000원- 아리랑 원더랜드 : 3,000 ~ 5,000원- 아리랑스토리투어 : 3,000원- 아리랑먹거리존 : 금액 상이', 'https://kfescdn.visitkorea.or.kr/kfes/upload/contents/db/23b8642c-8c00-4278-a76b-2f7bd579c97a_3.png', datetime.datetime(2025, 5, 22, 15, 23, 0, 840483))\n",
      "(3232, '원주용수골꽃양귀비축제', '강원특별자치도 원주시 용수골길 311  꽃양귀비축제장', datetime.date(2025, 5, 22), datetime.date(2025, 6, 8), \"자연경관이 뛰어난 마을에 매료되어, 귀농한 주민이 꽃을 너무 좋아해서 2005년 300평의 작은 밭에 취미삼아 심었는데, 의외로 많은 관람객들이 구름처럼 몰려들어 각광을 받게 되자, 2007년부터 마을주민과 '대표축제'로 키워보자며 시작하였고, 올해 제 18회 원주용수골꽃양귀비축제를 개최하게 되었다.\", 'https://korean.visitkorea.or.kr/kfes/detail/fstvlDetail.do?fstvlCntntsId=aa361709-4651-40f8-903d-9cf355c86454&cntntsNm=%EC%9B%90%EC%A3%BC%EC%9A%A9%EC%88%98%EA%B3%A8%EA%BD%83%EC%96%91%EA%B7%80%EB%B9%84%EC%B6%95%EC%A0%9C', '대표프로그램1. 차분한 꽃 관람2. 체험 프로그램 : 꽃양귀비티셔츠 체험, 깡통열차체험, 자연물공예체험3. 먹거리 : 꽃양귀비아이스크림, 꽃양귀비슬러쉬, 꽃양귀비 식혜, 꽃양귀비콩떡, 푸드트럭4. 살거리 : 꽃양귀비 가든 마켓, 꽃양귀비축제기념 손수건, 축제기념 마스크팩, 축제기념 빨간우산, 지역농산물, 꽃모종 , 꽃씨, 공예품5. 관람객참여 : 꽃양귀비 사진 컨테스트', 'https://kfescdn.visitkorea.or.kr/kfes/upload/contents/db/aa361709-4651-40f8-903d-9cf355c86454_3.jpg', datetime.datetime(2025, 5, 22, 15, 23, 0, 840483))\n",
      "(3233, '공공한옥 밤마실', '서울특별시 종로구 계동길 37 (계동) 북촌문화센터', datetime.date(2025, 5, 21), datetime.date(2025, 5, 31), '도심 속 한옥에 드리운 청명한 기운을 느낄 수 있는 초하(初夏)의 계절, 북촌문화센터를 포함한 서울공공한옥 9개소에서는 시민들을 위해 5/21(수)부터 5/31(토)까지 열흘간 야간한옥을 일부 개방한다. 이번 축제에서는 마을의 옛길과 물길을 거닐며 지역민과 여행객, 남녀노소, 내외국인, 사회적배려대상자 등 누구나 누릴 수 있는 한옥문화의 장을 마련하였다. 특히 1년 중 양기가 가장 왕성한 날인 단오를 앞두고, 무더위가 오기 전 초여름을 만끽할 수 있는 저녁 나들이를 위해 다채로운 프로그램이 펼쳐진다. 서·북촌은 매년 다양한 이슈와 관심을 동반하며 역사문화자원을 확장하고 있다. 특히 최근 3년 사이, 엔데믹과 함께 찾아온 한국문화에 대한 글로벌 수요와 정치적 시국의 변화, 지역 주민의 정주권 보호 등 지역사회 문제에 대한 대안과 각별한 관심을 필요로 하고 있다. 서울공공한옥은 이러한 상황 속에서 들고나는 수많은 가치와 차이들을 포용하며, 색다른 한옥문화의 저변을 확대하고자 한다. 한옥을 방문하는 다양한 세대가 우리 고유의 유산을 매개로 함께 나래를 펼치는 밤 나들이를 통해 공공한옥의 문화자원을 만끽하는 소중한 만남을 기대한다.', 'https://korean.visitkorea.or.kr/kfes/detail/fstvlDetail.do?fstvlCntntsId=44361fc4-8826-49b1-b609-4628709e3ea9&cntntsNm=%EA%B3%B5%EA%B3%B5%ED%95%9C%EC%98%A5%EB%B0%A4%EB%A7%88%EC%8B%A4', '1. 전시: 빛 스민 집 展(강현지, 정성아), 밤을 지키는 불빛 展(이승정)2. 공연: 몸짓(블랙토무용단), 단오풍정(서의철 가단, 안순열, 김연택, 이화여자대학교 무용과), 북촌마을여행 : 도채비 기행(프로젝트 어린, 코몬 상상화샘, 북촌빈관 by 락고재), 책 읽는 밤(박초연)3. 여행·탐방: 조용한 여행 캠페인 : 사운드 워크숍 ‘수집된 물질들’(김준), 북촌골목길여행(一. 공공한옥 마실(송경화 주민해설사, 전통홍염공방, 성모자애복지관), 二. 영화 속 북촌(옥선희 주민해설사)4. 체험·해설: 한옥소목교실 : 호족반 만들기(이혜숙), 조족지광(照足之光)(백창호, 청년재단), 목기러기와 누비보(신민웅, 이정란, 성북구치매안심센터), 한옥의 밤, 호롱불 다회(차차티클럽), 대청마루 요가교실(정아름, 이소연), 계절을 걷는 밤(이동숙), 낯선 공간에서의 단상(이루미, 한완정), 일일서재, 한옥아 놀자(김성선·조승현 해설사), 한옥의 저녁(조승현 해설사)5. 교류·이벤트: 공공한옥 네트워킹 : 쉼과 환대의 공간(홍익대학교 산학협력단, 프라우들리(주), 차차티클럽), 북촌전통공예체험이벤트(북촌전통공방협의회, 종로구 관광체육과), 달빛 아래 한옥 산책 : 서울공공한옥 방문 이벤트[이용요금]- 무료(일부 체험프로그램 유료)- 유료 체험 프로그램 3종한옥소목교실, 조족등 만들기, 목기러리 만들기 : 1~3만원', 'https://kfescdn.visitkorea.or.kr/kfes/upload/contents/db/44361fc4-8826-49b1-b609-4628709e3ea9_3.jpg', datetime.datetime(2025, 5, 22, 15, 23, 0, 840483))\n",
      "(3234, '울산대공원 장미축제', '울산광역시 남구 남부순환도로 377 (옥동)', datetime.date(2025, 5, 21), datetime.date(2025, 5, 25), '울산대공원 장미원에서 개최되는 울산대공원 장미축제는 국내 최고의 장미원에서 피어나는 아름답고 다양한 300만 송이의 장미 감상과 고품격 프로그램, 시민참여 행사 등이 5일간 펼쳐진다.', 'https://korean.visitkorea.or.kr/kfes/detail/fstvlDetail.do?fstvlCntntsId=b2047505-5240-4abb-ba9a-9ee82c6a966a&cntntsNm=%EC%9A%B8%EC%82%B0%EB%8C%80%EA%B3%B5%EC%9B%90%EC%9E%A5%EB%AF%B8%EC%B6%95%EC%A0%9C', '1. 메인프로그램 : 개막식(퍼레이드, 개막 점등식, 불꽃쇼, 개막공연)2. 공연프로그램 : 로즈밸리콘서트, 러브뮤직콘서트, 행복스튜디오 등3. 부대프로그램 : 어린이 장미원, 장미빌리지(전시체험부스, 푸드트럭)* 요금 - 유료장미원입장료(동물원포함) : 어른 2,000원, 청소년 1,000원, 어린이 500원단체 30인 이상 : 어른 1,600원, 청소년 800원, 어린이 400원무료입장 : 4세미만, 65세 이상, 장애인 및 장애1~3등급 보호자 1인(신분증, 증빙서류 지참)', 'https://kfescdn.visitkorea.or.kr/kfes/upload/contents/db/b2047505-5240-4abb-ba9a-9ee82c6a966a_3.jpg', datetime.datetime(2025, 5, 22, 15, 23, 0, 840483))\n"
     ]
    }
   ],
   "source": [
    "cur.execute(\"SELECT * FROM festivals LIMIT 5;\")\n",
    "rows = cur.fetchall()\n",
    "for row in rows:\n",
    "    print(row)"
   ]
  },
  {
   "cell_type": "code",
   "execution_count": 3,
   "metadata": {},
   "outputs": [
    {
     "name": "stdout",
     "output_type": "stream",
     "text": [
      "총 데이터 수: 1239행\n"
     ]
    }
   ],
   "source": [
    "cur.execute(\"SELECT COUNT(*) FROM festivals;\")\n",
    "count = cur.fetchone()[0]\n",
    "print(f\"총 데이터 수: {count}행\")"
   ]
  },
  {
   "cell_type": "code",
   "execution_count": 4,
   "metadata": {},
   "outputs": [],
   "source": [
    "# 직접 하나만 넣고 싶을 때\n",
    "single_data = {\n",
    "    \"name\": \"부산국제록페스티벌\",\n",
    "    \"location\": \"부산광역시 사상구 삼락동 29-50\",\n",
    "    \"start_date\": \"2025-09-26\",\n",
    "    \"end_date\": \"2025-09-28\",\n",
    "    \"description\": \"\"\"*하기 축제 먹거리 정보는 전년도(2024년) 정보로, 2025년도 축제 먹거리 정보는 업데이트 중에 있습니다.*\n",
    "\n",
    "    부산국제록페스티벌은 2000년 첫 개최 이래, 26년 동안 명맥을 꾸준히 지켜온 국내 최초·최장수 국제록페스티벌이다. 2025년에는 9월 26일(금)부터 9월 28일(일)까지 3일간, 삼락생태공원에서 개최되며, 다양한 국내외 아티스트가 참여할 예정이다.공원 곳곳에 조성된 무대에서 신진 아티스트부터 글로벌 최정상급 헤드라이너까지 취향에 따라 다양한 공연을 관람할 수 있으며,관람객 참여형 게임 이벤트, 푸드코트 라운지, 캠핑존 등 다양한 부대 이벤트도 즐길 수 있다.\"\"\",\n",
    "    \"contents\": \"1. 메인프로그램 : 부산국제록페스티벌\\n2. 부대프로그램 : Rookies on the BU-ROCK, Road to BU-ROCK 등\\n3. 기타 : MD부스, 푸드코트 라운지, 캠핑존 등\",\n",
    "    \"homepage\": \"https://korean.visitkorea.or.kr/kfes/detail/fstvlDetail.do?fstvlCntntsId=8146cbf1-2012-4178-aa12-06ddfb702361&cntntsNm=%EB%B6%80%EC%82%B0%EA%B5%AD%EC%A0%9C%EB%A1%9D%ED%8E%98%EC%8A%A4%ED%8B%B0%EB%B2%8C\",\n",
    "    \"poster\": \"https://kfescdn.visitkorea.or.kr/kfes/upload/contents/db/8146cbf1-2012-4178-aa12-06ddfb702361_3.png\"\n",
    "}\n",
    "\n",
    "\n",
    "try:\n",
    "    cur.execute(\"\"\"\n",
    "        INSERT INTO festivals (\n",
    "            name, location, start_date, end_date,\n",
    "            description, contents, homepage, poster\n",
    "        ) VALUES (%s, %s, %s, %s, %s, %s, %s, %s)\n",
    "    \"\"\", (\n",
    "        single_data[\"name\"],\n",
    "        single_data[\"location\"],\n",
    "        single_data[\"start_date\"],\n",
    "        single_data[\"end_date\"],\n",
    "        single_data[\"description\"],\n",
    "        single_data[\"contents\"],\n",
    "        single_data[\"homepage\"],\n",
    "        single_data[\"poster\"]\n",
    "    ))\n",
    "    conn.commit()  # 성공하면 커밋\n",
    "except Exception as e:\n",
    "    print(f\"Error inserting data: {single_data['name']}, error: {e}\")\n",
    "    conn.rollback()  # 실패 시 롤백\n",
    "\n",
    "cur.execute(\"UPDATE festivals SET updated_at = NOW();\")"
   ]
  },
  {
   "cell_type": "code",
   "execution_count": 5,
   "metadata": {},
   "outputs": [],
   "source": [
    "conn.commit()\n",
    "cur.close()\n",
    "conn.close()"
   ]
  }
 ],
 "metadata": {
  "kernelspec": {
   "display_name": "ys0660",
   "language": "python",
   "name": "python3"
  },
  "language_info": {
   "codemirror_mode": {
    "name": "ipython",
    "version": 3
   },
   "file_extension": ".py",
   "mimetype": "text/x-python",
   "name": "python",
   "nbconvert_exporter": "python",
   "pygments_lexer": "ipython3",
   "version": "3.10.16"
  }
 },
 "nbformat": 4,
 "nbformat_minor": 2
}
